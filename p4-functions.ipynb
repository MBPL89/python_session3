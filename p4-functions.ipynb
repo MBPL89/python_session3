{
 "cells": [
  {
   "cell_type": "markdown",
   "metadata": {
    "collapsed": true,
    "jupyter": {
     "outputs_hidden": true
    }
   },
   "source": [
    "# Practice: Functions"
   ]
  },
  {
   "cell_type": "markdown",
   "metadata": {},
   "source": [
    "1) Rewrite the grading program you created in the previous practice by using a function. Then use the function, called `convert_grade` to convert to letter grade every score in the list called `scores`. NB: Your function should not break when it encounters problematic scores. The original program description: write a program to prompt for a score between 0.0 and 1.0. If the score is out of range, print an error message. If the score is between 0.0 and 1.0, print a grade using the following table:\n",
    "\n",
    "```\n",
    " Score   Grade\n",
    ">= 0.9     A\n",
    ">= 0.8     B\n",
    ">= 0.7     C\n",
    ">= 0.6     D\n",
    " < 0.6     F```\n",
    "\n",
    "Complete the code in the cell below:"
   ]
  },
  {
   "cell_type": "code",
   "execution_count": null,
   "metadata": {},
   "outputs": [],
   "source": [
    "# This is the definition of the convert_grade function\n",
    "\n"
   ]
  },
  {
   "cell_type": "code",
   "execution_count": 2,
   "metadata": {},
   "outputs": [],
   "source": [
    "# This is the list of scores to convert\n",
    "scores = [0.95, 0.66, 3, 0.75, 1, 0]\n",
    "\n",
    "# This is the program looping through the scores and printing the\n",
    "# letter grade conversion for each one.\n",
    "\n"
   ]
  },
  {
   "cell_type": "markdown",
   "metadata": {},
   "source": [
    "## Challenge"
   ]
  },
  {
   "cell_type": "markdown",
   "metadata": {},
   "source": [
    "This is a challenge that uses the skills you develped to this point.  \n",
    "\n",
    "Write a function named `computations` that takes one parameter named `number`. If the number is even, the function print the text: **The number is even, the result is** followed by the number devided by 2. If the number is odd, the function print the text: **The number is odd, the result is** followed by the result of the expression `3 * number + 1`. \n",
    "\n",
    "Using this function, write a program that allows a user to type any **integer** and then keeps calling `computations` until the result is **1**.  \n",
    "\n",
    "When the result of 1 is obtained (and it will be obtained for any integer), print the message **This computations function is bananas!!** and terminate the program. Make sure to use `try` and `except` to make sure is used to catch input errors (and print a meaningful message for the user).  \n",
    "\n",
    "Most of all, have fun with this coding challenge!\n"
   ]
  },
  {
   "cell_type": "code",
   "execution_count": null,
   "metadata": {},
   "outputs": [],
   "source": []
  }
 ],
 "metadata": {
  "kernelspec": {
   "display_name": "Python 3 (ipykernel)",
   "language": "python",
   "name": "python3"
  },
  "language_info": {
   "codemirror_mode": {
    "name": "ipython",
    "version": 3
   },
   "file_extension": ".py",
   "mimetype": "text/x-python",
   "name": "python",
   "nbconvert_exporter": "python",
   "pygments_lexer": "ipython3",
   "version": "3.9.16"
  }
 },
 "nbformat": 4,
 "nbformat_minor": 4
}
