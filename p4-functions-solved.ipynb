{
 "cells": [
  {
   "cell_type": "markdown",
   "metadata": {
    "collapsed": true,
    "jupyter": {
     "outputs_hidden": true
    }
   },
   "source": [
    "# Practice: Functions"
   ]
  },
  {
   "cell_type": "markdown",
   "metadata": {},
   "source": [
    "## Final exercise from the functions in class notebook"
   ]
  },
  {
   "cell_type": "markdown",
   "metadata": {},
   "source": [
    "Rewrite the pay computation with time-and-a-half for overtime and create a function called **computepay** which takes two parameters (hours and rate). The user should be prompted to input hours and rate, then **computepay** is called on the two arguments that are passed.  \n",
    "If the function is working correctly, you can test it with these numbers:\n",
    "\n",
    "Enter Hours Worked: 45  \n",
    "Enter Rate of Pay: 10\n",
    "\n",
    "Pay: 475.0"
   ]
  },
  {
   "cell_type": "code",
   "execution_count": null,
   "metadata": {},
   "outputs": [],
   "source": [
    "# Define the function computepay\n",
    "def computepay(hours, rate) :\n",
    "    try:\n",
    "        # The use of the variable inp here is akward\n",
    "        # the only reason we use it is becuase we are\n",
    "        # faithfully replicate the error message from the original program.\n",
    "        inp = hours\n",
    "        hours = float(inp)\n",
    "        inp = rate\n",
    "        rate = float(inp)\n",
    "        if hours > 40 :\n",
    "            pay = (1.5 * hours - 20) * rate\n",
    "        else :\n",
    "            pay = hours * rate\n",
    "        print('Pay: ', pay)\n",
    "    except: \n",
    "        print(inp, ' Error, please enter numeric input')\n",
    "\n",
    "# Collect input from the user\n",
    "inp1 = input('Enter Hours: ')\n",
    "inp2 = input('Enter Rate: ')\n",
    "\n",
    "# Call the computepay function to complete the computations\n",
    "computepay(inp1, inp2)\n",
    "\n"
   ]
  },
  {
   "cell_type": "markdown",
   "metadata": {},
   "source": [
    "1) Rewrite the grading program you created in the previous practice by using a function. Then use the function, called `convert_grade` to convert to letter grade every score in the list called `scores`. NB: Your function should not break when it encounters problematic scores. The original program description: write a program to prompt for a score between 0.0 and 1.0. If the score is out of range, print an error message. If the score is between 0.0 and 1.0, print a grade using the following table:\n",
    "\n",
    "```\n",
    " Score   Grade\n",
    ">= 0.9     A\n",
    ">= 0.8     B\n",
    ">= 0.7     C\n",
    ">= 0.6     D\n",
    " < 0.6     F```\n",
    "\n",
    "Complete the code in the cell below:"
   ]
  },
  {
   "cell_type": "code",
   "execution_count": null,
   "metadata": {},
   "outputs": [],
   "source": [
    "# This is the definition of the convert_grade function\n",
    "def convert_grade(inp) :\n",
    "    try :\n",
    "        score = float(inp)\n",
    "        \n",
    "        # Ensure input score is within acceptable range of values that can be meaningfully converted\n",
    "        if score >= 0 and score <= 1 :\n",
    "            if score >= 0.9 :\n",
    "                print('A')\n",
    "            elif score >= 0.8 :\n",
    "                print('B')\n",
    "            elif score >= 0.7 :\n",
    "                print('C')\n",
    "            elif score >= 0.6 :\n",
    "                print('D')\n",
    "            else :\n",
    "                print('F')\n",
    "        else :\n",
    "            print('Error, the score provided is out of acceptable range')\n",
    "    except :\n",
    "        print('Error, only numbers are allowed as input scores')"
   ]
  },
  {
   "cell_type": "code",
   "execution_count": null,
   "metadata": {},
   "outputs": [],
   "source": [
    "# This is the list of scores to convert\n",
    "scores = [0.95, 0.66, 3, 0.75, 1, 0, 'test']\n",
    "\n",
    "# This is the program looping through the scores and printing the\n",
    "# letter grade conversion for each one.\n",
    "for score in scores :\n",
    "    convert_grade(score)\n"
   ]
  },
  {
   "cell_type": "markdown",
   "metadata": {},
   "source": [
    "## Challenge"
   ]
  },
  {
   "cell_type": "markdown",
   "metadata": {},
   "source": [
    "This is a challenge that uses the skills you develped to this point.  \n",
    "\n",
    "Write a function named `computations` that takes one parameter named `number`. If the number is even, the function prints the text: **The number is even, the result is** followed by the number devided by 2. If the number is odd, the function prints the text: **The number is odd, the result is** followed by the result of the expression `3 * number + 1`. \n",
    "\n",
    "Using this function, write a program that allows a user to type any **integer** and then keeps calling `computations` until the result is **1**.  \n",
    "\n",
    "When the result of 1 is obtained (and it will be obtained for any integer), print the message **This computations function is bananas!!** and terminate the program. Make sure to use `try` and `except` to catch input errors (and print a meaningful message for the user).  \n",
    "\n",
    "Most of all, have fun with this coding challenge!\n"
   ]
  },
  {
   "cell_type": "code",
   "execution_count": 1,
   "metadata": {},
   "outputs": [
    {
     "name": "stdin",
     "output_type": "stream",
     "text": [
      "Enter a number to Collatz:  5\n"
     ]
    },
    {
     "name": "stdout",
     "output_type": "stream",
     "text": [
      "The number is odd 16\n",
      "The number is even 8\n",
      "The number is even 4\n",
      "The number is even 2\n",
      "The number is even 1\n",
      "This computations function is bananas!!\n"
     ]
    }
   ],
   "source": [
    "# Some preliminary notes:\n",
    "#\n",
    "# The // in the next line is not necessary. I could have used simple division with /\n",
    "# I use a \"floor division\" that returns an integer (it rounds down to nearest int)\n",
    "# It makes the output prettier, but there is not other reason to use it.\n",
    "# The same \"pretty result\" could be achieved wiht result = int(number / 2)\n",
    "#\n",
    "# The use of 'formatted printing' on the next line is also not necessary. \n",
    "# I could have used print('The number is, ' result).\n",
    "# In some cases however it is better to use formatted printing, to avoid a lot of \n",
    "# concatenation and also to make your code more readable.\n",
    "#\n",
    "# The second is a more 'modern' way to do formatted printing. It suses the f'text and {variables} here' format\n",
    "# This syntax allows for concise and readable string formatting in Python, \n",
    "# making it easier to include variables and expressions directly within strings.\n",
    "\n",
    "# First, create the function definition\n",
    "def computations(number):\n",
    "    if number % 2 == 0:\n",
    "        result = number // 2\n",
    "        print('The number is even %d' %result)\n",
    "    else:\n",
    "        result = 3 * number + 1\n",
    "        print(f'The number is odd {result}')\n",
    "    return result\n",
    "\n",
    "# Collect input from user and wrap in error catching to stop the program upon non integer digits\n",
    "data = input('Enter a number to Collatz: ')\n",
    "try:\n",
    "    data = int(data)\n",
    "    if data >= 1:\n",
    "        while data != 1:\n",
    "            data = computations(data)\n",
    "        print('This computations function is bananas!!')\n",
    "    else:\n",
    "        print('Only positive integers greater than zero can Collatz!')\n",
    "except:\n",
    "    print('Please enter an integer number')"
   ]
  }
 ],
 "metadata": {
  "kernelspec": {
   "display_name": "Python 3 (ipykernel)",
   "language": "python",
   "name": "python3"
  },
  "language_info": {
   "codemirror_mode": {
    "name": "ipython",
    "version": 3
   },
   "file_extension": ".py",
   "mimetype": "text/x-python",
   "name": "python",
   "nbconvert_exporter": "python",
   "pygments_lexer": "ipython3",
   "version": "3.9.16"
  }
 },
 "nbformat": 4,
 "nbformat_minor": 4
}
